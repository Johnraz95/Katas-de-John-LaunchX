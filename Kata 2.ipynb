{
 "cells": [
  {
   "cell_type": "code",
   "execution_count": 9,
   "metadata": {},
   "outputs": [
    {
     "name": "stdout",
     "output_type": "stream",
     "text": [
      "2022-02-11 01:35:54.198711\n"
     ]
    },
    {
     "ename": "NameError",
     "evalue": "name 'deaprint' is not defined",
     "output_type": "error",
     "traceback": [
      "\u001b[1;31m---------------------------------------------------------------------------\u001b[0m",
      "\u001b[1;31mNameError\u001b[0m                                 Traceback (most recent call last)",
      "\u001b[1;32mc:\\Users\\jon_d\\OneDrive\\Escritorio\\UTAN\\Innovaccion\\Launch X\\Kata 2.ipynb Cell 1'\u001b[0m in \u001b[0;36m<module>\u001b[1;34m\u001b[0m\n\u001b[0;32m      <a href='vscode-notebook-cell:/c%3A/Users/jon_d/OneDrive/Escritorio/UTAN/Innovaccion/Launch%20X/Kata%202.ipynb#ch0000000?line=3'>4</a>\u001b[0m \u001b[39mprint\u001b[39m(now)\n\u001b[0;32m      <a href='vscode-notebook-cell:/c%3A/Users/jon_d/OneDrive/Escritorio/UTAN/Innovaccion/Launch%20X/Kata%202.ipynb#ch0000000?line=5'>6</a>\u001b[0m now \u001b[39m=\u001b[39m now \u001b[39m+\u001b[39m relativedelta(months\u001b[39m=\u001b[39m\u001b[39m1\u001b[39m, weeks\u001b[39m=\u001b[39m\u001b[39m1\u001b[39m, hour\u001b[39m=\u001b[39m\u001b[39m10\u001b[39m)\n\u001b[1;32m----> <a href='vscode-notebook-cell:/c%3A/Users/jon_d/OneDrive/Escritorio/UTAN/Innovaccion/Launch%20X/Kata%202.ipynb#ch0000000?line=7'>8</a>\u001b[0m deaprint(now)\n",
      "\u001b[1;31mNameError\u001b[0m: name 'deaprint' is not defined"
     ]
    }
   ],
   "source": [
    "from datetime import *\n",
    "from dateutil.relativedelta import *\n",
    "now = datetime.now()\n",
    "print(now)\n",
    "\n",
    "now = now + relativedelta(months=1, weeks=1, hour=10)\n",
    "\n",
    "(now)"
   ]
  }
 ],
 "metadata": {
  "interpreter": {
   "hash": "c94bad528500eeba008f76cfaaf815de5180949d3b15d7e2f0fc2c9edb8ff1c2"
  },
  "kernelspec": {
   "display_name": "Python 3.10.2 64-bit",
   "language": "python",
   "name": "python3"
  },
  "language_info": {
   "codemirror_mode": {
    "name": "ipython",
    "version": 3
   },
   "file_extension": ".py",
   "mimetype": "text/x-python",
   "name": "python",
   "nbconvert_exporter": "python",
   "pygments_lexer": "ipython3",
   "version": "3.10.2"
  },
  "orig_nbformat": 4
 },
 "nbformat": 4,
 "nbformat_minor": 2
}
